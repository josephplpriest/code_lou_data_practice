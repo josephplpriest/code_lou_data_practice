{
  "nbformat": 4,
  "nbformat_minor": 0,
  "metadata": {
    "colab": {
      "provenance": [],
      "authorship_tag": "ABX9TyMgRhND+k22o5FQ+ylAAxAH",
      "include_colab_link": true
    },
    "kernelspec": {
      "name": "python3",
      "display_name": "Python 3"
    },
    "language_info": {
      "name": "python"
    }
  },
  "cells": [
    {
      "cell_type": "markdown",
      "metadata": {
        "id": "view-in-github",
        "colab_type": "text"
      },
      "source": [
        "<a href=\"https://colab.research.google.com/github/josephplpriest/code_lou_data_practice/blob/main/data_practice.ipynb\" target=\"_parent\"><img src=\"https://colab.research.google.com/assets/colab-badge.svg\" alt=\"Open In Colab\"/></a>"
      ]
    },
    {
      "cell_type": "code",
      "execution_count": 2,
      "metadata": {
        "colab": {
          "base_uri": "https://localhost:8080/"
        },
        "id": "CKj5poBINvcd",
        "outputId": "a86edeea-29a7-45b8-dfb2-a267a4720dd7"
      },
      "outputs": [
        {
          "output_type": "stream",
          "name": "stdout",
          "text": [
            "  % Total    % Received % Xferd  Average Speed   Time    Time     Time  Current\n",
            "                                 Dload  Upload   Total   Spent    Left  Speed\n",
            "\r  0     0    0     0    0     0      0      0 --:--:-- --:--:-- --:--:--     0\r100  1510  100  1510    0     0  16063      0 --:--:-- --:--:-- --:--:-- 16063\n"
          ]
        }
      ],
      "source": [
        "!curl https://raw.githubusercontent.com/josephplpriest/code_lou_data_practice/main/getty.txt >> getty.txt"
      ]
    },
    {
      "cell_type": "code",
      "source": [
        "!curl https://github.com/josephplpriest/code_lou_data_practice/blob/main/titanic.csv >> titanic.csv"
      ],
      "metadata": {
        "colab": {
          "base_uri": "https://localhost:8080/"
        },
        "id": "wbfrPF6sNxWn",
        "outputId": "34a5aa7c-ea74-4d67-8e25-d31e4af5b6a5"
      },
      "execution_count": 3,
      "outputs": [
        {
          "output_type": "stream",
          "name": "stdout",
          "text": [
            "  % Total    % Received % Xferd  Average Speed   Time    Time     Time  Current\n",
            "                                 Dload  Upload   Total   Spent    Left  Speed\n",
            "100  572k    0  572k    0     0  1107k      0 --:--:-- --:--:-- --:--:-- 1105k\n"
          ]
        }
      ]
    },
    {
      "cell_type": "code",
      "source": [
        "!curl https://github.com/josephplpriest/code_lou_data_practice/blob/main/users.json >> users.json"
      ],
      "metadata": {
        "colab": {
          "base_uri": "https://localhost:8080/"
        },
        "id": "Zs-kWDuzOBm7",
        "outputId": "d07c0a9f-4b05-4173-a500-aeb49f5d8437"
      },
      "execution_count": 4,
      "outputs": [
        {
          "output_type": "stream",
          "name": "stdout",
          "text": [
            "  % Total    % Received % Xferd  Average Speed   Time    Time     Time  Current\n",
            "                                 Dload  Upload   Total   Spent    Left  Speed\n",
            "100  245k    0  245k    0     0   446k      0 --:--:-- --:--:-- --:--:--  445k\n"
          ]
        }
      ]
    },
    {
      "cell_type": "code",
      "source": [
        "ls"
      ],
      "metadata": {
        "colab": {
          "base_uri": "https://localhost:8080/"
        },
        "id": "vwnWkhf5OKqU",
        "outputId": "9d74e1af-4caf-42fe-fc72-6853d950011b"
      },
      "execution_count": 8,
      "outputs": [
        {
          "output_type": "stream",
          "name": "stdout",
          "text": [
            "getty.txt  \u001b[0m\u001b[01;34msample_data\u001b[0m/  titanic.csv  users.json\n"
          ]
        }
      ]
    },
    {
      "cell_type": "code",
      "source": [],
      "metadata": {
        "id": "WmAfnR3QONR2"
      },
      "execution_count": null,
      "outputs": []
    }
  ]
}